{
 "cells": [
  {
   "cell_type": "code",
   "execution_count": 72,
   "metadata": {},
   "outputs": [],
   "source": [
    "import pandas as pd \n",
    "import numpy as np \n",
    "import matplotlib.pyplot as plt \n",
    "import seaborn as sns\n",
    "import warnings\n",
    "from datetime import datetime\n",
    "from datetime import timedelta\n",
    "from dateutil.relativedelta import relativedelta\n",
    "from IPython.display import display\n",
    "import os"
   ]
  },
  {
   "cell_type": "code",
   "execution_count": 73,
   "metadata": {},
   "outputs": [
    {
     "data": {
      "text/plain": [
       "Index(['Row ID', 'Order ID', 'Order Date', 'Ship Date', 'Ship Mode',\n",
       "       'Customer ID', 'Customer Name', 'Segment', 'Country', 'City', 'State',\n",
       "       'Postal Code', 'Region', 'Product ID', 'Category', 'Sub-Category',\n",
       "       'Product Name', 'Sales', 'Quantity', 'Discount', 'Profit'],\n",
       "      dtype='object')"
      ]
     },
     "execution_count": 73,
     "metadata": {},
     "output_type": "execute_result"
    }
   ],
   "source": [
    "df = pd.read_excel(\"D:\\IBM ML\\data\\LAB - 2\\Sample - Superstore.xls\")\n",
    "df.columns"
   ]
  },
  {
   "cell_type": "markdown",
   "metadata": {},
   "source": [
    "We can see the data have been input and the columns are referenced by a pandas index object. there are two date variable (order date and ship date),variables for customer and region , product type variable ((category , sub-category , product name)),etc."
   ]
  },
  {
   "cell_type": "markdown",
   "metadata": {},
   "source": [
    "SIMPLIFY TIME SERIES DATA \n",
    "We will start by simplify the input data a bit to explore data type . To do so , we will look at total sales by order Date and Category . This allows us to look a Time series dataset with multipletime series."
   ]
  },
  {
   "cell_type": "code",
   "execution_count": 74,
   "metadata": {},
   "outputs": [],
   "source": [
    "variables = ['Order Date', 'Category','Sales']\n",
    "group_variables = variables[:2]\n",
    "outcome_variable = variables[2]\n",
    "base = df.groupby(group_variables)[outcome_variable].sum().reset_index()"
   ]
  },
  {
   "cell_type": "code",
   "execution_count": 75,
   "metadata": {},
   "outputs": [
    {
     "name": "stdout",
     "output_type": "stream",
     "text": [
      "Columns: Index(['Order Date', 'Category', 'Sales'], dtype='object')\n",
      "Index: RangeIndex(start=0, stop=2864, step=1)\n"
     ]
    }
   ],
   "source": [
    "print(\"Columns:\", base.columns)\n",
    "print(\"Index:\",base.index)"
   ]
  },
  {
   "cell_type": "markdown",
   "metadata": {},
   "source": [
    "INDIVIDUAL DATAFRAME COLUMNS ARE PANDAS SERIES, AND WE CAN SEE THE RANGE INDEX ON THE LEFT . THIS PANDAS DATAFRAME IS A COMBINATION OF THE RANGE INDEX AND PANDAS SERIES OBJECTS, WHERE EACH HAS AN UNDERLYING DATATYPE:"
   ]
  },
  {
   "cell_type": "code",
   "execution_count": 76,
   "metadata": {},
   "outputs": [
    {
     "data": {
      "text/html": [
       "<div>\n",
       "<style scoped>\n",
       "    .dataframe tbody tr th:only-of-type {\n",
       "        vertical-align: middle;\n",
       "    }\n",
       "\n",
       "    .dataframe tbody tr th {\n",
       "        vertical-align: top;\n",
       "    }\n",
       "\n",
       "    .dataframe thead th {\n",
       "        text-align: right;\n",
       "    }\n",
       "</style>\n",
       "<table border=\"1\" class=\"dataframe\">\n",
       "  <thead>\n",
       "    <tr style=\"text-align: right;\">\n",
       "      <th></th>\n",
       "      <th>Order Date</th>\n",
       "      <th>Category</th>\n",
       "      <th>Sales</th>\n",
       "    </tr>\n",
       "  </thead>\n",
       "  <tbody>\n",
       "    <tr>\n",
       "      <th>0</th>\n",
       "      <td>2011-01-04</td>\n",
       "      <td>Office Supplies</td>\n",
       "      <td>16.448</td>\n",
       "    </tr>\n",
       "    <tr>\n",
       "      <th>1</th>\n",
       "      <td>2011-01-05</td>\n",
       "      <td>Office Supplies</td>\n",
       "      <td>288.060</td>\n",
       "    </tr>\n",
       "    <tr>\n",
       "      <th>2</th>\n",
       "      <td>2011-01-06</td>\n",
       "      <td>Office Supplies</td>\n",
       "      <td>19.536</td>\n",
       "    </tr>\n",
       "    <tr>\n",
       "      <th>3</th>\n",
       "      <td>2011-01-07</td>\n",
       "      <td>Furniture</td>\n",
       "      <td>2573.820</td>\n",
       "    </tr>\n",
       "    <tr>\n",
       "      <th>4</th>\n",
       "      <td>2011-01-07</td>\n",
       "      <td>Office Supplies</td>\n",
       "      <td>685.340</td>\n",
       "    </tr>\n",
       "  </tbody>\n",
       "</table>\n",
       "</div>"
      ],
      "text/plain": [
       "  Order Date         Category     Sales\n",
       "0 2011-01-04  Office Supplies    16.448\n",
       "1 2011-01-05  Office Supplies   288.060\n",
       "2 2011-01-06  Office Supplies    19.536\n",
       "3 2011-01-07        Furniture  2573.820\n",
       "4 2011-01-07  Office Supplies   685.340"
      ]
     },
     "execution_count": 76,
     "metadata": {},
     "output_type": "execute_result"
    }
   ],
   "source": [
    "base.head()"
   ]
  },
  {
   "cell_type": "code",
   "execution_count": 77,
   "metadata": {},
   "outputs": [
    {
     "data": {
      "text/plain": [
       "Order Date    datetime64[ns]\n",
       "Category              object\n",
       "Sales                float64\n",
       "dtype: object"
      ]
     },
     "execution_count": 77,
     "metadata": {},
     "output_type": "execute_result"
    }
   ],
   "source": [
    "base.dtypes"
   ]
  },
  {
   "cell_type": "markdown",
   "metadata": {},
   "source": [
    "PANDAS DATAFRAME TYPES:"
   ]
  },
  {
   "cell_type": "code",
   "execution_count": 78,
   "metadata": {},
   "outputs": [
    {
     "name": "stdout",
     "output_type": "stream",
     "text": [
      "Order Date <class 'pandas.core.series.Series'> datetime64[ns]\n",
      "Category <class 'pandas.core.series.Series'> object\n",
      "Sales <class 'pandas.core.series.Series'> float64\n"
     ]
    }
   ],
   "source": [
    "for x in base.columns:\n",
    "    print(x, type(base[x]), base[x].dtype)"
   ]
  },
  {
   "cell_type": "markdown",
   "metadata": {},
   "source": [
    "WORKING WITH NUMPY ARRAYS "
   ]
  },
  {
   "cell_type": "markdown",
   "metadata": {},
   "source": [
    "It isn't always necessary to extract Numpy array , as pandas series contain Numpy functionality . However some applications use Numpy array as inputs and can bypass pandas if desired"
   ]
  },
  {
   "cell_type": "code",
   "execution_count": 79,
   "metadata": {},
   "outputs": [],
   "source": [
    "order_date = np.array([base['Order Date']])\n",
    "category  = np.array(base['Category'])\n",
    "sales = np.array(base['Sales'])"
   ]
  },
  {
   "cell_type": "code",
   "execution_count": 80,
   "metadata": {},
   "outputs": [
    {
     "name": "stdout",
     "output_type": "stream",
     "text": [
      "Order Date <class 'numpy.ndarray'> datetime64[ns]\n",
      "Category <class 'numpy.ndarray'> object\n",
      "sales <class 'numpy.ndarray'> float64\n"
     ]
    }
   ],
   "source": [
    "print('Order Date',type (order_date),order_date.dtype)\n",
    "print('Category', type(category),category.dtype)\n",
    "print('sales', type(sales),sales.dtype)"
   ]
  },
  {
   "cell_type": "markdown",
   "metadata": {},
   "source": [
    "If starting from the NumPy arrays , we could bulid the dataframe (note dictionary) input structure:"
   ]
  },
  {
   "cell_type": "code",
   "execution_count": 81,
   "metadata": {},
   "outputs": [
    {
     "data": {
      "text/plain": [
       "array([['2011-01-04T00:00:00.000000000', '2011-01-05T00:00:00.000000000',\n",
       "        '2011-01-06T00:00:00.000000000', ...,\n",
       "        '2014-12-31T00:00:00.000000000', '2014-12-31T00:00:00.000000000',\n",
       "        '2014-12-31T00:00:00.000000000']], dtype='datetime64[ns]')"
      ]
     },
     "execution_count": 81,
     "metadata": {},
     "output_type": "execute_result"
    }
   ],
   "source": [
    "order_date"
   ]
  },
  {
   "cell_type": "code",
   "execution_count": 82,
   "metadata": {},
   "outputs": [
    {
     "data": {
      "text/plain": [
       "array([['2011-01-04', '2011-01-05', '2011-01-06', ..., '2014-12-31',\n",
       "        '2014-12-31', '2014-12-31']], dtype='datetime64[D]')"
      ]
     },
     "execution_count": 82,
     "metadata": {},
     "output_type": "execute_result"
    }
   ],
   "source": [
    "order_date_daily = np.array(order_date, dtype = 'datetime64[D]')\n",
    "order_date_daily"
   ]
  },
  {
   "cell_type": "code",
   "execution_count": 83,
   "metadata": {},
   "outputs": [
    {
     "data": {
      "text/plain": [
       "array([['2011-01', '2011-01', '2011-01', ..., '2014-12', '2014-12',\n",
       "        '2014-12']], dtype='datetime64[M]')"
      ]
     },
     "execution_count": 83,
     "metadata": {},
     "output_type": "execute_result"
    }
   ],
   "source": [
    "order_date_monthly = np.array(order_date, dtype = 'datetime64[M]')\n",
    "order_date_monthly"
   ]
  },
  {
   "cell_type": "code",
   "execution_count": 84,
   "metadata": {},
   "outputs": [
    {
     "data": {
      "text/plain": [
       "array(['2011-01', '2011-02', '2011-03', '2011-04', '2011-05', '2011-06',\n",
       "       '2011-07', '2011-08', '2011-09', '2011-10', '2011-11', '2011-12',\n",
       "       '2012-01', '2012-02', '2012-03', '2012-04', '2012-05', '2012-06',\n",
       "       '2012-07', '2012-08', '2012-09', '2012-10', '2012-11', '2012-12',\n",
       "       '2013-01', '2013-02', '2013-03', '2013-04', '2013-05', '2013-06',\n",
       "       '2013-07', '2013-08', '2013-09', '2013-10', '2013-11', '2013-12',\n",
       "       '2014-01', '2014-02', '2014-03', '2014-04', '2014-05', '2014-06',\n",
       "       '2014-07', '2014-08', '2014-09', '2014-10', '2014-11', '2014-12'],\n",
       "      dtype='datetime64[M]')"
      ]
     },
     "execution_count": 84,
     "metadata": {},
     "output_type": "execute_result"
    }
   ],
   "source": [
    "np.unique(order_date_monthly)"
   ]
  },
  {
   "cell_type": "markdown",
   "metadata": {},
   "source": [
    "WORKING WITH PANDAS DATETIMEINDEX\n"
   ]
  },
  {
   "cell_type": "code",
   "execution_count": 85,
   "metadata": {},
   "outputs": [
    {
     "name": "stdout",
     "output_type": "stream",
     "text": [
      "  Order Date         Category     Sales\n",
      "0 2011-01-04  Office Supplies    16.448\n",
      "1 2011-01-05  Office Supplies   288.060\n",
      "2 2011-01-06  Office Supplies    19.536\n",
      "3 2011-01-07        Furniture  2573.820\n",
      "4 2011-01-07  Office Supplies   685.340\n",
      "\n",
      " Unique categories:\n",
      "['Office Supplies' 'Furniture' 'Technology']\n"
     ]
    }
   ],
   "source": [
    "print(base.head())\n",
    "print('\\n Unique categories:')\n",
    "print(base['Category'].unique())"
   ]
  },
  {
   "cell_type": "markdown",
   "metadata": {},
   "source": [
    "SETTING INDEX USING EXISTING VARIABLE \n",
    "\n",
    "we often want to set an index explicity , or manipulate an index , for working with time series data . The pandas date time index is useful here , although it is often useful to standardize the index by ensuring all relevant time period are include only once . Our data violate this condition for two reasons: (1) Multiple values for a given period (due to multiple categories) and (2) missing days (for daily). We will fix both of these issues below , and explore some useful datetime functionality."
   ]
  },
  {
   "cell_type": "code",
   "execution_count": 86,
   "metadata": {},
   "outputs": [],
   "source": [
    "base.set_index('Order Date', inplace=True)\n",
    "# Note that without inplace = True , it will output the results without changing the data "
   ]
  },
  {
   "cell_type": "code",
   "execution_count": 87,
   "metadata": {},
   "outputs": [
    {
     "data": {
      "text/html": [
       "<div>\n",
       "<style scoped>\n",
       "    .dataframe tbody tr th:only-of-type {\n",
       "        vertical-align: middle;\n",
       "    }\n",
       "\n",
       "    .dataframe tbody tr th {\n",
       "        vertical-align: top;\n",
       "    }\n",
       "\n",
       "    .dataframe thead th {\n",
       "        text-align: right;\n",
       "    }\n",
       "</style>\n",
       "<table border=\"1\" class=\"dataframe\">\n",
       "  <thead>\n",
       "    <tr style=\"text-align: right;\">\n",
       "      <th></th>\n",
       "      <th>Category</th>\n",
       "      <th>Sales</th>\n",
       "    </tr>\n",
       "    <tr>\n",
       "      <th>Order Date</th>\n",
       "      <th></th>\n",
       "      <th></th>\n",
       "    </tr>\n",
       "  </thead>\n",
       "  <tbody>\n",
       "    <tr>\n",
       "      <th>2011-01-04</th>\n",
       "      <td>Office Supplies</td>\n",
       "      <td>16.448</td>\n",
       "    </tr>\n",
       "    <tr>\n",
       "      <th>2011-01-05</th>\n",
       "      <td>Office Supplies</td>\n",
       "      <td>288.060</td>\n",
       "    </tr>\n",
       "    <tr>\n",
       "      <th>2011-01-06</th>\n",
       "      <td>Office Supplies</td>\n",
       "      <td>19.536</td>\n",
       "    </tr>\n",
       "    <tr>\n",
       "      <th>2011-01-07</th>\n",
       "      <td>Furniture</td>\n",
       "      <td>2573.820</td>\n",
       "    </tr>\n",
       "    <tr>\n",
       "      <th>2011-01-07</th>\n",
       "      <td>Office Supplies</td>\n",
       "      <td>685.340</td>\n",
       "    </tr>\n",
       "  </tbody>\n",
       "</table>\n",
       "</div>"
      ],
      "text/plain": [
       "                   Category     Sales\n",
       "Order Date                           \n",
       "2011-01-04  Office Supplies    16.448\n",
       "2011-01-05  Office Supplies   288.060\n",
       "2011-01-06  Office Supplies    19.536\n",
       "2011-01-07        Furniture  2573.820\n",
       "2011-01-07  Office Supplies   685.340"
      ]
     },
     "execution_count": 87,
     "metadata": {},
     "output_type": "execute_result"
    }
   ],
   "source": [
    "base.head()"
   ]
  },
  {
   "cell_type": "code",
   "execution_count": 88,
   "metadata": {},
   "outputs": [
    {
     "name": "stdout",
     "output_type": "stream",
     "text": [
      "DatetimeIndex(['2011-01-04', '2011-01-05', '2011-01-06', '2011-01-07',\n",
      "               '2011-01-07', '2011-01-07', '2011-01-08', '2011-01-08',\n",
      "               '2011-01-10', '2011-01-10',\n",
      "               ...\n",
      "               '2014-12-28', '2014-12-29', '2014-12-29', '2014-12-29',\n",
      "               '2014-12-30', '2014-12-30', '2014-12-30', '2014-12-31',\n",
      "               '2014-12-31', '2014-12-31'],\n",
      "              dtype='datetime64[ns]', name='Order Date', length=2864, freq=None)\n"
     ]
    }
   ],
   "source": [
    "print(base.index)\n",
    "# print (base.index.unique())"
   ]
  },
  {
   "cell_type": "markdown",
   "metadata": {},
   "source": [
    "SUBSETTING DATA\n",
    "\n",
    "We now has Datetimeindex and we can use it to select data subset "
   ]
  },
  {
   "cell_type": "code",
   "execution_count": 89,
   "metadata": {},
   "outputs": [
    {
     "name": "stderr",
     "output_type": "stream",
     "text": [
      "C:\\Users\\arjun\\AppData\\Local\\Temp\\ipykernel_19792\\3664258241.py:2: FutureWarning: Indexing a DataFrame with a datetimelike index using a single string to slice the rows, like `frame[string]`, is deprecated and will be removed in a future version. Use `frame.loc[string]` instead.\n",
      "  display(base['2011'].head())\n"
     ]
    },
    {
     "data": {
      "text/html": [
       "<div>\n",
       "<style scoped>\n",
       "    .dataframe tbody tr th:only-of-type {\n",
       "        vertical-align: middle;\n",
       "    }\n",
       "\n",
       "    .dataframe tbody tr th {\n",
       "        vertical-align: top;\n",
       "    }\n",
       "\n",
       "    .dataframe thead th {\n",
       "        text-align: right;\n",
       "    }\n",
       "</style>\n",
       "<table border=\"1\" class=\"dataframe\">\n",
       "  <thead>\n",
       "    <tr style=\"text-align: right;\">\n",
       "      <th></th>\n",
       "      <th>Category</th>\n",
       "      <th>Sales</th>\n",
       "    </tr>\n",
       "    <tr>\n",
       "      <th>Order Date</th>\n",
       "      <th></th>\n",
       "      <th></th>\n",
       "    </tr>\n",
       "  </thead>\n",
       "  <tbody>\n",
       "    <tr>\n",
       "      <th>2011-01-04</th>\n",
       "      <td>Office Supplies</td>\n",
       "      <td>16.448</td>\n",
       "    </tr>\n",
       "    <tr>\n",
       "      <th>2011-01-05</th>\n",
       "      <td>Office Supplies</td>\n",
       "      <td>288.060</td>\n",
       "    </tr>\n",
       "    <tr>\n",
       "      <th>2011-01-06</th>\n",
       "      <td>Office Supplies</td>\n",
       "      <td>19.536</td>\n",
       "    </tr>\n",
       "    <tr>\n",
       "      <th>2011-01-07</th>\n",
       "      <td>Furniture</td>\n",
       "      <td>2573.820</td>\n",
       "    </tr>\n",
       "    <tr>\n",
       "      <th>2011-01-07</th>\n",
       "      <td>Office Supplies</td>\n",
       "      <td>685.340</td>\n",
       "    </tr>\n",
       "  </tbody>\n",
       "</table>\n",
       "</div>"
      ],
      "text/plain": [
       "                   Category     Sales\n",
       "Order Date                           \n",
       "2011-01-04  Office Supplies    16.448\n",
       "2011-01-05  Office Supplies   288.060\n",
       "2011-01-06  Office Supplies    19.536\n",
       "2011-01-07        Furniture  2573.820\n",
       "2011-01-07  Office Supplies   685.340"
      ]
     },
     "metadata": {},
     "output_type": "display_data"
    },
    {
     "name": "stdout",
     "output_type": "stream",
     "text": [
      "\n",
      "\n"
     ]
    },
    {
     "data": {
      "text/html": [
       "<div>\n",
       "<style scoped>\n",
       "    .dataframe tbody tr th:only-of-type {\n",
       "        vertical-align: middle;\n",
       "    }\n",
       "\n",
       "    .dataframe tbody tr th {\n",
       "        vertical-align: top;\n",
       "    }\n",
       "\n",
       "    .dataframe thead th {\n",
       "        text-align: right;\n",
       "    }\n",
       "</style>\n",
       "<table border=\"1\" class=\"dataframe\">\n",
       "  <thead>\n",
       "    <tr style=\"text-align: right;\">\n",
       "      <th></th>\n",
       "      <th>Category</th>\n",
       "      <th>Sales</th>\n",
       "    </tr>\n",
       "    <tr>\n",
       "      <th>Order Date</th>\n",
       "      <th></th>\n",
       "      <th></th>\n",
       "    </tr>\n",
       "  </thead>\n",
       "  <tbody>\n",
       "    <tr>\n",
       "      <th>2012-02-22</th>\n",
       "      <td>Office Supplies</td>\n",
       "      <td>79.360</td>\n",
       "    </tr>\n",
       "    <tr>\n",
       "      <th>2012-02-23</th>\n",
       "      <td>Office Supplies</td>\n",
       "      <td>37.776</td>\n",
       "    </tr>\n",
       "    <tr>\n",
       "      <th>2012-02-25</th>\n",
       "      <td>Office Supplies</td>\n",
       "      <td>25.870</td>\n",
       "    </tr>\n",
       "    <tr>\n",
       "      <th>2012-02-27</th>\n",
       "      <td>Office Supplies</td>\n",
       "      <td>20.451</td>\n",
       "    </tr>\n",
       "    <tr>\n",
       "      <th>2012-02-29</th>\n",
       "      <td>Office Supplies</td>\n",
       "      <td>58.720</td>\n",
       "    </tr>\n",
       "  </tbody>\n",
       "</table>\n",
       "</div>"
      ],
      "text/plain": [
       "                   Category   Sales\n",
       "Order Date                         \n",
       "2012-02-22  Office Supplies  79.360\n",
       "2012-02-23  Office Supplies  37.776\n",
       "2012-02-25  Office Supplies  25.870\n",
       "2012-02-27  Office Supplies  20.451\n",
       "2012-02-29  Office Supplies  58.720"
      ]
     },
     "metadata": {},
     "output_type": "display_data"
    }
   ],
   "source": [
    "# Observations in 2014\n",
    "display(base['2011'].head())\n",
    "print('\\n')\n",
    "#Observations in a range of dates subset of columns:\n",
    "display(base[base['Category'] == 'Office Supplies']['2011':'2012-02'].tail())"
   ]
  },
  {
   "cell_type": "markdown",
   "metadata": {},
   "source": [
    "DATETIME COMPONENTS\n",
    "\n",
    "Pandas datetime variable have a number of useful components. Using the Datetimeindex , we can extract items like month, year , day of week , quater, etc:"
   ]
  },
  {
   "cell_type": "code",
   "execution_count": 90,
   "metadata": {},
   "outputs": [
    {
     "name": "stdout",
     "output_type": "stream",
     "text": [
      "Day: Int64Index([ 4,  5,  6,  7,  7,  7,  8,  8, 10, 10,\n",
      "            ...\n",
      "            28, 29, 29, 29, 30, 30, 30, 31, 31, 31],\n",
      "           dtype='int64', name='Order Date', length=2864) \n",
      "\n",
      "Week: Int64Index([ 1,  1,  1,  1,  1,  1,  1,  1,  2,  2,\n",
      "            ...\n",
      "            52,  1,  1,  1,  1,  1,  1,  1,  1,  1],\n",
      "           dtype='int64', name='Order Date', length=2864) \n",
      "\n",
      "                   Category     Sales  DayofWeek\n",
      "Order Date                                      \n",
      "2011-01-04  Office Supplies    16.448          1\n",
      "2011-01-05  Office Supplies   288.060          2\n",
      "2011-01-06  Office Supplies    19.536          3\n",
      "2011-01-07        Furniture  2573.820          4\n",
      "2011-01-07  Office Supplies   685.340          4\n"
     ]
    },
    {
     "name": "stderr",
     "output_type": "stream",
     "text": [
      "C:\\Users\\arjun\\AppData\\Local\\Temp\\ipykernel_19792\\1250898062.py:3: FutureWarning: weekofyear and week have been deprecated, please use DatetimeIndex.isocalendar().week instead, which returns a Series. To exactly reproduce the behavior of week and weekofyear and return an Index, you may call pd.Int64Index(idx.isocalendar().week)\n",
      "  print('Week:', base.index.week, '\\n')\n"
     ]
    }
   ],
   "source": [
    "# base.set_index('OrderDate', inplace == True)\n",
    "print('Day:', base.index.day, '\\n')\n",
    "print('Week:', base.index.week, '\\n')\n",
    "base['DayofWeek'] = base.index.dayofweek # day of week : monday = 0, sunday = 6\n",
    "print(base.head())\n",
    "# Note: use dt method when the data variable is not part of the index:\n",
    "# df('Order Date').dt.dayofweek.head()\n",
    "del(base['DayofWeek'])"
   ]
  },
  {
   "cell_type": "markdown",
   "metadata": {},
   "source": [
    "STANDARDIZING THE DATETIMEINDEX \n",
    "\n",
    "While data from existing variable may be sufficient , some time series applications requires that data contain all periods and have a frequency assigned. We can see above that our data do not have a frequency (freq = none). while the data seem daily, there are many types of possible frequencies. Pandas will infer a frequency and assign it. Otherwise , we need to ensure there are:\n",
    "\n",
    "1. No duplicate index values\n",
    "2. No missing index values "
   ]
  },
  {
   "cell_type": "markdown",
   "metadata": {},
   "source": [
    "PIVOTING DATA:\n",
    "\n",
    "Because there are multiple categories , we have multiple time series to analyze . As a result , our datetimeindex does not uniquely identify an observation . To uniquely identify observations, we can either add categorical variable to the index , or set a pandas date timeindex with separate columns for each series . There are several ways to accomplish this . The first approach uses pandas bulit-in pivot method:"
   ]
  },
  {
   "cell_type": "code",
   "execution_count": 91,
   "metadata": {},
   "outputs": [
    {
     "data": {
      "text/plain": [
       "<bound method NDFrame.head of Category    Furniture  Office Supplies  Technology\n",
       "Order Date                                        \n",
       "2011-01-04        NaN           16.448         NaN\n",
       "2011-01-05        NaN          288.060         NaN\n",
       "2011-01-06        NaN           19.536         NaN\n",
       "2011-01-07  2573.8200          685.340    1147.940\n",
       "2011-01-08    76.7280           10.430         NaN\n",
       "...               ...              ...         ...\n",
       "2014-12-27        NaN          814.594         NaN\n",
       "2014-12-28        NaN           13.248     164.388\n",
       "2014-12-29   551.2568         1091.244      14.850\n",
       "2014-12-30  2330.7180          282.440     302.376\n",
       "2014-12-31   323.1360          299.724      90.930\n",
       "\n",
       "[1238 rows x 3 columns]>"
      ]
     },
     "execution_count": 91,
     "metadata": {},
     "output_type": "execute_result"
    }
   ],
   "source": [
    "base.reset_index(inplace=True)\n",
    "# Note if we didn't reset the index , we could use index = none below\n",
    "sales_pivot = base.pivot(index='Order Date', columns = 'Category', values= 'Sales')\n",
    "sales_pivot.head"
   ]
  },
  {
   "cell_type": "markdown",
   "metadata": {},
   "source": [
    "UNSTACKING: \n",
    "\n",
    "To achieve the same result in pandas, it is often easier to use the index and unstack / stack methods. the unstack method tranforms long data into wide data by creating columns by category for levels of the index , while stack does the reverse."
   ]
  },
  {
   "cell_type": "code",
   "execution_count": 92,
   "metadata": {},
   "outputs": [
    {
     "data": {
      "text/html": [
       "<div>\n",
       "<style scoped>\n",
       "    .dataframe tbody tr th:only-of-type {\n",
       "        vertical-align: middle;\n",
       "    }\n",
       "\n",
       "    .dataframe tbody tr th {\n",
       "        vertical-align: top;\n",
       "    }\n",
       "\n",
       "    .dataframe thead th {\n",
       "        text-align: right;\n",
       "    }\n",
       "</style>\n",
       "<table border=\"1\" class=\"dataframe\">\n",
       "  <thead>\n",
       "    <tr style=\"text-align: right;\">\n",
       "      <th></th>\n",
       "      <th>Furniture</th>\n",
       "      <th>Office Supplies</th>\n",
       "      <th>Technology</th>\n",
       "    </tr>\n",
       "    <tr>\n",
       "      <th>Order Date</th>\n",
       "      <th></th>\n",
       "      <th></th>\n",
       "      <th></th>\n",
       "    </tr>\n",
       "  </thead>\n",
       "  <tbody>\n",
       "    <tr>\n",
       "      <th>2011-01-04</th>\n",
       "      <td>0.000</td>\n",
       "      <td>16.448</td>\n",
       "      <td>0.00</td>\n",
       "    </tr>\n",
       "    <tr>\n",
       "      <th>2011-01-05</th>\n",
       "      <td>0.000</td>\n",
       "      <td>288.060</td>\n",
       "      <td>0.00</td>\n",
       "    </tr>\n",
       "    <tr>\n",
       "      <th>2011-01-06</th>\n",
       "      <td>0.000</td>\n",
       "      <td>19.536</td>\n",
       "      <td>0.00</td>\n",
       "    </tr>\n",
       "    <tr>\n",
       "      <th>2011-01-07</th>\n",
       "      <td>2573.820</td>\n",
       "      <td>685.340</td>\n",
       "      <td>1147.94</td>\n",
       "    </tr>\n",
       "    <tr>\n",
       "      <th>2011-01-08</th>\n",
       "      <td>76.728</td>\n",
       "      <td>10.430</td>\n",
       "      <td>0.00</td>\n",
       "    </tr>\n",
       "  </tbody>\n",
       "</table>\n",
       "</div>"
      ],
      "text/plain": [
       "            Furniture  Office Supplies  Technology\n",
       "Order Date                                        \n",
       "2011-01-04      0.000           16.448        0.00\n",
       "2011-01-05      0.000          288.060        0.00\n",
       "2011-01-06      0.000           19.536        0.00\n",
       "2011-01-07   2573.820          685.340     1147.94\n",
       "2011-01-08     76.728           10.430        0.00"
      ]
     },
     "execution_count": 92,
     "metadata": {},
     "output_type": "execute_result"
    }
   ],
   "source": [
    "sales = base.set_index(['Order Date', 'Category']).unstack('Category').fillna(0)\n",
    "sales.columns = sales.columns.levels[1].rename(None)\n",
    "sales.head()\n"
   ]
  },
  {
   "attachments": {},
   "cell_type": "markdown",
   "metadata": {},
   "source": [
    "Generating a complete index and setting frequency \n",
    "\n",
    "since we are using daily data , we would like to set a daily frequency. We see our data has a length of 1238 days. By subtracting the smallest date from the largest date , we can tell there are some days missing:"
   ]
  },
  {
   "cell_type": "code",
   "execution_count": 96,
   "metadata": {},
   "outputs": [
    {
     "name": "stdout",
     "output_type": "stream",
     "text": [
      "\n",
      "Unique dates in our data:  1238 Days\n",
      "Total days in our date range: 1457 Days\n"
     ]
    }
   ],
   "source": [
    "print('\\nUnique dates in our data: ', len(sales.index.unique()),'Days')\n",
    "our_data_range = sales.index.max() - sales.index.min()\n",
    "print('Total days in our date range:', our_data_range.days,'Days')\n"
   ]
  },
  {
   "cell_type": "code",
   "execution_count": 97,
   "metadata": {},
   "outputs": [
    {
     "name": "stdout",
     "output_type": "stream",
     "text": [
      "DatetimeIndex(['2011-01-04', '2011-01-05', '2011-01-06', '2011-01-07',\n",
      "               '2011-01-08', '2011-01-09', '2011-01-10', '2011-01-11',\n",
      "               '2011-01-12', '2011-01-13',\n",
      "               ...\n",
      "               '2014-12-22', '2014-12-23', '2014-12-24', '2014-12-25',\n",
      "               '2014-12-26', '2014-12-27', '2014-12-28', '2014-12-29',\n",
      "               '2014-12-30', '2014-12-31'],\n",
      "              dtype='datetime64[ns]', length=1458, freq='D')\n"
     ]
    }
   ],
   "source": [
    "new_index = pd.date_range(sales.index.min(), sales.index.max())\n",
    "print(new_index)"
   ]
  }
 ],
 "metadata": {
  "kernelspec": {
   "display_name": "Python 3",
   "language": "python",
   "name": "python3"
  },
  "language_info": {
   "codemirror_mode": {
    "name": "ipython",
    "version": 3
   },
   "file_extension": ".py",
   "mimetype": "text/x-python",
   "name": "python",
   "nbconvert_exporter": "python",
   "pygments_lexer": "ipython3",
   "version": "3.9.10"
  },
  "orig_nbformat": 4,
  "vscode": {
   "interpreter": {
    "hash": "8a5edab282632443219e051e4ade2d1d5bbc671c781051bf1437897cbdfea0f1"
   }
  }
 },
 "nbformat": 4,
 "nbformat_minor": 2
}
